{
 "cells": [
  {
   "cell_type": "code",
   "execution_count": 2,
   "id": "cb559830-3f91-49d7-882b-d79ab889a869",
   "metadata": {},
   "outputs": [
    {
     "name": "stdout",
     "output_type": "stream",
     "text": [
      "Namespace(cfg='configs/config.yaml')\n",
      "\n",
      "...Evaluating on 3DPW test set...\n",
      "Using Transformer encoder for Temporal Encoder\n",
      "WARNING: You are using a SMPL model, with only 10 shape coefficients.\n",
      "=> loaded pretrained model from 'data/vibe_data/spin_model_checkpoint.pth.tar'\n",
      "==> Loaded pretrained model from results/vibe_tests/gen-tform_disc-tform_amass_updated/07-11-2023_09-00-08_vibe/model_best.pth.tar...\n",
      "Performance on 3DPW test set 65.0961771607399\n",
      "3DPW Dataset overlap ratio:  0.0\n",
      "Loading 3dpw from: data/vibe_db/3dpw_test_db.pt\n",
      "Loaded 3dpw dataset from data/vibe_db/3dpw_test_db.pt\n",
      "3dpw - number of dataset objects 2144\n",
      "\u001b[KValidation |################################| (67/67) | batch: 101.5ms | Total: 0:00:10 | ETA: 0:00:01\n",
      "Evaluating on 34304 number of poses...\n",
      "WARNING: You are using a SMPL model, with only 10 shape coefficients.\n",
      "MPJPE: 104.7027, PA-MPJPE: 59.4259, PVE: 125.0943, ACCEL: 16.8924, ACCEL_ERR: 18.8253,\n",
      "\u001b[?25h"
     ]
    }
   ],
   "source": [
    "!python eval.py --cfg configs/config.yaml"
   ]
  }
 ],
 "metadata": {
  "kernelspec": {
   "display_name": "Python 3",
   "language": "python",
   "name": "python3"
  },
  "language_info": {
   "codemirror_mode": {
    "name": "ipython",
    "version": 3
   },
   "file_extension": ".py",
   "mimetype": "text/x-python",
   "name": "python",
   "nbconvert_exporter": "python",
   "pygments_lexer": "ipython3",
   "version": "3.7.10"
  }
 },
 "nbformat": 4,
 "nbformat_minor": 5
}
